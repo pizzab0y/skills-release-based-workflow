{
  "cells": [
    {
      "cell_type": "markdown",
      "metadata": {
        "id": "view-in-github",
        "colab_type": "text"
      },
      "source": [
        "<a href=\"https://colab.research.google.com/github/pizzab0y/skills-release-based-workflow/blob/main/recsys_scratch.ipynb\" target=\"_parent\"><img src=\"https://colab.research.google.com/assets/colab-badge.svg\" alt=\"Open In Colab\"/></a>"
      ]
    },
    {
      "cell_type": "markdown",
      "metadata": {
        "id": "euurvRlMuIwn"
      },
      "source": [
        "## **Q:**\n",
        "Можно ли, и если можно, то как построить простую рекомендательную систему на основе перцептрона?"
      ]
    },
    {
      "cell_type": "markdown",
      "metadata": {
        "id": "JbaF3RepuIwr"
      },
      "source": [
        "## **A:**\n",
        "Простейший перцептрон это сенсоры (входные данные) --> полносвязный слой нейронов (dense - то слово, которое вылетело у меня из головы во время созвона, - слой) --> выходной слой. Можно ли построить на его основе RecSys – да, можно. Это легко. На входе у нас будут какие-либо данные о пользователях. Которые по нашим предположениям так или иначе должны влиять на то, что им нравится. А на выходе мы получим некалиброванную вероятность класса чего-то, что пользователю должно “зайти”."
      ]
    },
    {
      "cell_type": "markdown",
      "metadata": {
        "id": "-b8iwBASuIws"
      },
      "source": [
        "Итак, задача. Специально для тебя, Эдуард. У нас есть небольшая крафтовая пивоварня, а при ней - небольшой бар. Пивоварня в течении нескольких лет варит ровно 10 сортов пива, приведенных ниже. Бармен настолько устал слышать фразу \"Чо порекомендуешь?\", что решил создать небольшой скрипт на Python, который бы делал это за него.\n",
        "\n",
        "Бармен предположил, что вкусовые предпочтения зависят от гостя. И придумал дизайн нехитрого исследования. Вот его суть: каждый новый посетитель за умеренную плату может поучаствовать в дегустации всех 10 сортов пива. С двумя условиями - на входе он заполняет простую анкету о себе по вопросам бармена. А на выходе, попробовав все сорта пива, выбирает одно лучшее по его мнению. Бармен решил использовать т.н. \"жадный алгоритм\" и не усложнять. Сэмплы пива всегда подаются в рандомном порядке.\n",
        "\n",
        "За некоторое время работы бармен собирал заполенные анкеты и понравившийся сорт в папочку, которую с гордостью называл \"Биг Дата\".\n",
        "\n",
        "Разумеется, все это - большая абстракция. Исследование далеко от научного. Тем не менее, это простейшая рекомендательная система, основывающейся на предположении, что похожим людям будет нравится похожее пиво (user-based collaborative system). Baseline моделью бармен выбрал модель KNN, что является довольно традиционным подходом в этом деле. Но, будучи сам натурой тонкой, бармен интуитивно понимал, что механизмы, по которым одним людям нравится одно пиво, а другим - другое, могут быть куда сложнее, поэтому и использовал Deep Learning. Вообще, в подобных задачах хорошо себя показывают бустинговые модели, но перцептрон, так перцептрон. Речь, напомню, идет о возможности создания, а не о качестве."
      ]
    },
    {
      "cell_type": "markdown",
      "metadata": {
        "id": "cpMrstW6uIwt"
      },
      "source": [
        "![Beer Tasting](https://www.amsterdambachelor.com/wp-content/uploads/2017/09/Amsterdam-Beer-Tasting.png)"
      ]
    },
    {
      "cell_type": "code",
      "execution_count": 1,
      "metadata": {
        "id": "fI7iOpO_uIwu"
      },
      "outputs": [],
      "source": [
        "beer = [\"Lager\", \"IPA\", \"Stout\", \"Ale\", \"Pilsner\", \"Wheat Beer\", \"Pale Ale\", \"Saison\", \"Amber Ale\", \"Sours\"]\n",
        "\n",
        "survey = [\"love_meat\",\n",
        "          \"love_fish\",\n",
        "          \"hard_work\",\n",
        "          \"introvert\",\n",
        "          \"love_football\",\n",
        "          \"love_basketball\",\n",
        "          \"do_sports\",\n",
        "          \"drunk\"]"
      ]
    },
    {
      "cell_type": "markdown",
      "metadata": {
        "id": "yRGl_XgzuIwu"
      },
      "source": [
        "Поехали!"
      ]
    },
    {
      "cell_type": "code",
      "execution_count": 2,
      "metadata": {
        "id": "VmYVkiEYuIwv"
      },
      "outputs": [],
      "source": [
        "import pandas as pd\n",
        "import numpy as np\n",
        "import tensorflow as tf\n",
        "\n",
        "from sklearn.model_selection import train_test_split\n",
        "from sklearn.preprocessing import LabelEncoder"
      ]
    },
    {
      "cell_type": "code",
      "execution_count": 3,
      "metadata": {
        "id": "x3nGfeh9uIww"
      },
      "outputs": [],
      "source": [
        "RS = 404"
      ]
    },
    {
      "cell_type": "markdown",
      "metadata": {
        "id": "cLu0fBN6uIww"
      },
      "source": [
        "Создам данные в папке бармена. К сожалению, они будут синтетические и распределены равномерно. Если наделять их какой-то логикой, то это займет много времени и уже не в рамках этого вопроса."
      ]
    },
    {
      "cell_type": "code",
      "execution_count": 4,
      "metadata": {
        "colab": {
          "base_uri": "https://localhost:8080/",
          "height": 383
        },
        "id": "urXmxp33uIwy",
        "outputId": "86ec0aa7-feec-47bb-915e-6e9b6ffae5ac"
      },
      "outputs": [
        {
          "output_type": "execute_result",
          "data": {
            "text/plain": [
              "   love_meat  love_fish  hard_work  introvert  love_football  love_basketball  \\\n",
              "0          1          0          0          0              0                1   \n",
              "1          1          1          1          0              1                0   \n",
              "2          1          1          1          0              1                0   \n",
              "3          1          1          1          1              0                1   \n",
              "4          0          0          0          1              1                0   \n",
              "5          1          0          0          0              1                1   \n",
              "6          0          0          1          0              1                1   \n",
              "7          1          1          1          0              0                1   \n",
              "8          0          1          0          0              0                0   \n",
              "9          1          1          1          1              0                0   \n",
              "\n",
              "   do_sports  drunk   fav_beer  \n",
              "0          1      1      Stout  \n",
              "1          1      1      Sours  \n",
              "2          1      1        IPA  \n",
              "3          0      0   Pale Ale  \n",
              "4          0      0      Sours  \n",
              "5          0      0  Amber Ale  \n",
              "6          0      1    Pilsner  \n",
              "7          0      1      Stout  \n",
              "8          1      1      Sours  \n",
              "9          0      0    Pilsner  "
            ],
            "text/html": [
              "\n",
              "  <div id=\"df-86b59a43-4aea-4b64-b59d-24f452188efc\" class=\"colab-df-container\">\n",
              "    <div>\n",
              "<style scoped>\n",
              "    .dataframe tbody tr th:only-of-type {\n",
              "        vertical-align: middle;\n",
              "    }\n",
              "\n",
              "    .dataframe tbody tr th {\n",
              "        vertical-align: top;\n",
              "    }\n",
              "\n",
              "    .dataframe thead th {\n",
              "        text-align: right;\n",
              "    }\n",
              "</style>\n",
              "<table border=\"1\" class=\"dataframe\">\n",
              "  <thead>\n",
              "    <tr style=\"text-align: right;\">\n",
              "      <th></th>\n",
              "      <th>love_meat</th>\n",
              "      <th>love_fish</th>\n",
              "      <th>hard_work</th>\n",
              "      <th>introvert</th>\n",
              "      <th>love_football</th>\n",
              "      <th>love_basketball</th>\n",
              "      <th>do_sports</th>\n",
              "      <th>drunk</th>\n",
              "      <th>fav_beer</th>\n",
              "    </tr>\n",
              "  </thead>\n",
              "  <tbody>\n",
              "    <tr>\n",
              "      <th>0</th>\n",
              "      <td>1</td>\n",
              "      <td>0</td>\n",
              "      <td>0</td>\n",
              "      <td>0</td>\n",
              "      <td>0</td>\n",
              "      <td>1</td>\n",
              "      <td>1</td>\n",
              "      <td>1</td>\n",
              "      <td>Stout</td>\n",
              "    </tr>\n",
              "    <tr>\n",
              "      <th>1</th>\n",
              "      <td>1</td>\n",
              "      <td>1</td>\n",
              "      <td>1</td>\n",
              "      <td>0</td>\n",
              "      <td>1</td>\n",
              "      <td>0</td>\n",
              "      <td>1</td>\n",
              "      <td>1</td>\n",
              "      <td>Sours</td>\n",
              "    </tr>\n",
              "    <tr>\n",
              "      <th>2</th>\n",
              "      <td>1</td>\n",
              "      <td>1</td>\n",
              "      <td>1</td>\n",
              "      <td>0</td>\n",
              "      <td>1</td>\n",
              "      <td>0</td>\n",
              "      <td>1</td>\n",
              "      <td>1</td>\n",
              "      <td>IPA</td>\n",
              "    </tr>\n",
              "    <tr>\n",
              "      <th>3</th>\n",
              "      <td>1</td>\n",
              "      <td>1</td>\n",
              "      <td>1</td>\n",
              "      <td>1</td>\n",
              "      <td>0</td>\n",
              "      <td>1</td>\n",
              "      <td>0</td>\n",
              "      <td>0</td>\n",
              "      <td>Pale Ale</td>\n",
              "    </tr>\n",
              "    <tr>\n",
              "      <th>4</th>\n",
              "      <td>0</td>\n",
              "      <td>0</td>\n",
              "      <td>0</td>\n",
              "      <td>1</td>\n",
              "      <td>1</td>\n",
              "      <td>0</td>\n",
              "      <td>0</td>\n",
              "      <td>0</td>\n",
              "      <td>Sours</td>\n",
              "    </tr>\n",
              "    <tr>\n",
              "      <th>5</th>\n",
              "      <td>1</td>\n",
              "      <td>0</td>\n",
              "      <td>0</td>\n",
              "      <td>0</td>\n",
              "      <td>1</td>\n",
              "      <td>1</td>\n",
              "      <td>0</td>\n",
              "      <td>0</td>\n",
              "      <td>Amber Ale</td>\n",
              "    </tr>\n",
              "    <tr>\n",
              "      <th>6</th>\n",
              "      <td>0</td>\n",
              "      <td>0</td>\n",
              "      <td>1</td>\n",
              "      <td>0</td>\n",
              "      <td>1</td>\n",
              "      <td>1</td>\n",
              "      <td>0</td>\n",
              "      <td>1</td>\n",
              "      <td>Pilsner</td>\n",
              "    </tr>\n",
              "    <tr>\n",
              "      <th>7</th>\n",
              "      <td>1</td>\n",
              "      <td>1</td>\n",
              "      <td>1</td>\n",
              "      <td>0</td>\n",
              "      <td>0</td>\n",
              "      <td>1</td>\n",
              "      <td>0</td>\n",
              "      <td>1</td>\n",
              "      <td>Stout</td>\n",
              "    </tr>\n",
              "    <tr>\n",
              "      <th>8</th>\n",
              "      <td>0</td>\n",
              "      <td>1</td>\n",
              "      <td>0</td>\n",
              "      <td>0</td>\n",
              "      <td>0</td>\n",
              "      <td>0</td>\n",
              "      <td>1</td>\n",
              "      <td>1</td>\n",
              "      <td>Sours</td>\n",
              "    </tr>\n",
              "    <tr>\n",
              "      <th>9</th>\n",
              "      <td>1</td>\n",
              "      <td>1</td>\n",
              "      <td>1</td>\n",
              "      <td>1</td>\n",
              "      <td>0</td>\n",
              "      <td>0</td>\n",
              "      <td>0</td>\n",
              "      <td>0</td>\n",
              "      <td>Pilsner</td>\n",
              "    </tr>\n",
              "  </tbody>\n",
              "</table>\n",
              "</div>\n",
              "    <div class=\"colab-df-buttons\">\n",
              "\n",
              "  <div class=\"colab-df-container\">\n",
              "    <button class=\"colab-df-convert\" onclick=\"convertToInteractive('df-86b59a43-4aea-4b64-b59d-24f452188efc')\"\n",
              "            title=\"Convert this dataframe to an interactive table.\"\n",
              "            style=\"display:none;\">\n",
              "\n",
              "  <svg xmlns=\"http://www.w3.org/2000/svg\" height=\"24px\" viewBox=\"0 -960 960 960\">\n",
              "    <path d=\"M120-120v-720h720v720H120Zm60-500h600v-160H180v160Zm220 220h160v-160H400v160Zm0 220h160v-160H400v160ZM180-400h160v-160H180v160Zm440 0h160v-160H620v160ZM180-180h160v-160H180v160Zm440 0h160v-160H620v160Z\"/>\n",
              "  </svg>\n",
              "    </button>\n",
              "\n",
              "  <style>\n",
              "    .colab-df-container {\n",
              "      display:flex;\n",
              "      gap: 12px;\n",
              "    }\n",
              "\n",
              "    .colab-df-convert {\n",
              "      background-color: #E8F0FE;\n",
              "      border: none;\n",
              "      border-radius: 50%;\n",
              "      cursor: pointer;\n",
              "      display: none;\n",
              "      fill: #1967D2;\n",
              "      height: 32px;\n",
              "      padding: 0 0 0 0;\n",
              "      width: 32px;\n",
              "    }\n",
              "\n",
              "    .colab-df-convert:hover {\n",
              "      background-color: #E2EBFA;\n",
              "      box-shadow: 0px 1px 2px rgba(60, 64, 67, 0.3), 0px 1px 3px 1px rgba(60, 64, 67, 0.15);\n",
              "      fill: #174EA6;\n",
              "    }\n",
              "\n",
              "    .colab-df-buttons div {\n",
              "      margin-bottom: 4px;\n",
              "    }\n",
              "\n",
              "    [theme=dark] .colab-df-convert {\n",
              "      background-color: #3B4455;\n",
              "      fill: #D2E3FC;\n",
              "    }\n",
              "\n",
              "    [theme=dark] .colab-df-convert:hover {\n",
              "      background-color: #434B5C;\n",
              "      box-shadow: 0px 1px 3px 1px rgba(0, 0, 0, 0.15);\n",
              "      filter: drop-shadow(0px 1px 2px rgba(0, 0, 0, 0.3));\n",
              "      fill: #FFFFFF;\n",
              "    }\n",
              "  </style>\n",
              "\n",
              "    <script>\n",
              "      const buttonEl =\n",
              "        document.querySelector('#df-86b59a43-4aea-4b64-b59d-24f452188efc button.colab-df-convert');\n",
              "      buttonEl.style.display =\n",
              "        google.colab.kernel.accessAllowed ? 'block' : 'none';\n",
              "\n",
              "      async function convertToInteractive(key) {\n",
              "        const element = document.querySelector('#df-86b59a43-4aea-4b64-b59d-24f452188efc');\n",
              "        const dataTable =\n",
              "          await google.colab.kernel.invokeFunction('convertToInteractive',\n",
              "                                                    [key], {});\n",
              "        if (!dataTable) return;\n",
              "\n",
              "        const docLinkHtml = 'Like what you see? Visit the ' +\n",
              "          '<a target=\"_blank\" href=https://colab.research.google.com/notebooks/data_table.ipynb>data table notebook</a>'\n",
              "          + ' to learn more about interactive tables.';\n",
              "        element.innerHTML = '';\n",
              "        dataTable['output_type'] = 'display_data';\n",
              "        await google.colab.output.renderOutput(dataTable, element);\n",
              "        const docLink = document.createElement('div');\n",
              "        docLink.innerHTML = docLinkHtml;\n",
              "        element.appendChild(docLink);\n",
              "      }\n",
              "    </script>\n",
              "  </div>\n",
              "\n",
              "\n",
              "<div id=\"df-53e73242-a7a9-441e-8e70-865d0bf4471a\">\n",
              "  <button class=\"colab-df-quickchart\" onclick=\"quickchart('df-53e73242-a7a9-441e-8e70-865d0bf4471a')\"\n",
              "            title=\"Suggest charts.\"\n",
              "            style=\"display:none;\">\n",
              "\n",
              "<svg xmlns=\"http://www.w3.org/2000/svg\" height=\"24px\"viewBox=\"0 0 24 24\"\n",
              "     width=\"24px\">\n",
              "    <g>\n",
              "        <path d=\"M19 3H5c-1.1 0-2 .9-2 2v14c0 1.1.9 2 2 2h14c1.1 0 2-.9 2-2V5c0-1.1-.9-2-2-2zM9 17H7v-7h2v7zm4 0h-2V7h2v10zm4 0h-2v-4h2v4z\"/>\n",
              "    </g>\n",
              "</svg>\n",
              "  </button>\n",
              "\n",
              "<style>\n",
              "  .colab-df-quickchart {\n",
              "      --bg-color: #E8F0FE;\n",
              "      --fill-color: #1967D2;\n",
              "      --hover-bg-color: #E2EBFA;\n",
              "      --hover-fill-color: #174EA6;\n",
              "      --disabled-fill-color: #AAA;\n",
              "      --disabled-bg-color: #DDD;\n",
              "  }\n",
              "\n",
              "  [theme=dark] .colab-df-quickchart {\n",
              "      --bg-color: #3B4455;\n",
              "      --fill-color: #D2E3FC;\n",
              "      --hover-bg-color: #434B5C;\n",
              "      --hover-fill-color: #FFFFFF;\n",
              "      --disabled-bg-color: #3B4455;\n",
              "      --disabled-fill-color: #666;\n",
              "  }\n",
              "\n",
              "  .colab-df-quickchart {\n",
              "    background-color: var(--bg-color);\n",
              "    border: none;\n",
              "    border-radius: 50%;\n",
              "    cursor: pointer;\n",
              "    display: none;\n",
              "    fill: var(--fill-color);\n",
              "    height: 32px;\n",
              "    padding: 0;\n",
              "    width: 32px;\n",
              "  }\n",
              "\n",
              "  .colab-df-quickchart:hover {\n",
              "    background-color: var(--hover-bg-color);\n",
              "    box-shadow: 0 1px 2px rgba(60, 64, 67, 0.3), 0 1px 3px 1px rgba(60, 64, 67, 0.15);\n",
              "    fill: var(--button-hover-fill-color);\n",
              "  }\n",
              "\n",
              "  .colab-df-quickchart-complete:disabled,\n",
              "  .colab-df-quickchart-complete:disabled:hover {\n",
              "    background-color: var(--disabled-bg-color);\n",
              "    fill: var(--disabled-fill-color);\n",
              "    box-shadow: none;\n",
              "  }\n",
              "\n",
              "  .colab-df-spinner {\n",
              "    border: 2px solid var(--fill-color);\n",
              "    border-color: transparent;\n",
              "    border-bottom-color: var(--fill-color);\n",
              "    animation:\n",
              "      spin 1s steps(1) infinite;\n",
              "  }\n",
              "\n",
              "  @keyframes spin {\n",
              "    0% {\n",
              "      border-color: transparent;\n",
              "      border-bottom-color: var(--fill-color);\n",
              "      border-left-color: var(--fill-color);\n",
              "    }\n",
              "    20% {\n",
              "      border-color: transparent;\n",
              "      border-left-color: var(--fill-color);\n",
              "      border-top-color: var(--fill-color);\n",
              "    }\n",
              "    30% {\n",
              "      border-color: transparent;\n",
              "      border-left-color: var(--fill-color);\n",
              "      border-top-color: var(--fill-color);\n",
              "      border-right-color: var(--fill-color);\n",
              "    }\n",
              "    40% {\n",
              "      border-color: transparent;\n",
              "      border-right-color: var(--fill-color);\n",
              "      border-top-color: var(--fill-color);\n",
              "    }\n",
              "    60% {\n",
              "      border-color: transparent;\n",
              "      border-right-color: var(--fill-color);\n",
              "    }\n",
              "    80% {\n",
              "      border-color: transparent;\n",
              "      border-right-color: var(--fill-color);\n",
              "      border-bottom-color: var(--fill-color);\n",
              "    }\n",
              "    90% {\n",
              "      border-color: transparent;\n",
              "      border-bottom-color: var(--fill-color);\n",
              "    }\n",
              "  }\n",
              "</style>\n",
              "\n",
              "  <script>\n",
              "    async function quickchart(key) {\n",
              "      const quickchartButtonEl =\n",
              "        document.querySelector('#' + key + ' button');\n",
              "      quickchartButtonEl.disabled = true;  // To prevent multiple clicks.\n",
              "      quickchartButtonEl.classList.add('colab-df-spinner');\n",
              "      try {\n",
              "        const charts = await google.colab.kernel.invokeFunction(\n",
              "            'suggestCharts', [key], {});\n",
              "      } catch (error) {\n",
              "        console.error('Error during call to suggestCharts:', error);\n",
              "      }\n",
              "      quickchartButtonEl.classList.remove('colab-df-spinner');\n",
              "      quickchartButtonEl.classList.add('colab-df-quickchart-complete');\n",
              "    }\n",
              "    (() => {\n",
              "      let quickchartButtonEl =\n",
              "        document.querySelector('#df-53e73242-a7a9-441e-8e70-865d0bf4471a button');\n",
              "      quickchartButtonEl.style.display =\n",
              "        google.colab.kernel.accessAllowed ? 'block' : 'none';\n",
              "    })();\n",
              "  </script>\n",
              "</div>\n",
              "    </div>\n",
              "  </div>\n"
            ]
          },
          "metadata": {},
          "execution_count": 4
        }
      ],
      "source": [
        "prng = np.random.RandomState(RS)\n",
        "\n",
        "df = pd.DataFrame(data=prng.randint(2, size=(1000, 8)), columns=survey)\n",
        "df['fav_beer'] = prng.choice(beer, 1000)\n",
        "\n",
        "df.head(10)"
      ]
    },
    {
      "cell_type": "markdown",
      "metadata": {
        "id": "vFpLFypNuIwz"
      },
      "source": [
        "Отделим, разделим."
      ]
    },
    {
      "cell_type": "code",
      "execution_count": 5,
      "metadata": {
        "colab": {
          "base_uri": "https://localhost:8080/"
        },
        "id": "FKuDYQRjuIwz",
        "outputId": "badc3b9a-bad8-44af-8904-6f421d74af89"
      },
      "outputs": [
        {
          "output_type": "stream",
          "name": "stdout",
          "text": [
            "(800, 8)\n",
            "(200, 8)\n",
            "(800,)\n",
            "(200,)\n"
          ]
        }
      ],
      "source": [
        "X = df.drop('fav_beer', axis=1)\n",
        "y = df['fav_beer']\n",
        "\n",
        "X_train, X_test, y_train, y_test = train_test_split(X, y,\n",
        "                                                    test_size=1/5,\n",
        "                                                    shuffle=True,\n",
        "                                                    stratify=y,\n",
        "                                                    random_state=RS)\n",
        "\n",
        "print(* [_.shape for _ in [X_train, X_test, y_train, y_test]], sep='\\n')"
      ]
    },
    {
      "cell_type": "markdown",
      "metadata": {
        "id": "bjCQyIGTuIw0"
      },
      "source": [
        "Закодируем labels."
      ]
    },
    {
      "cell_type": "code",
      "execution_count": 6,
      "metadata": {
        "id": "ir0YrHRmuIw0"
      },
      "outputs": [],
      "source": [
        "le = LabelEncoder()\n",
        "le.fit(y_train)\n",
        "y_train = le.transform(y_train)\n",
        "y_test = le.transform(y_test);"
      ]
    },
    {
      "cell_type": "markdown",
      "metadata": {
        "id": "tavGkXEKuIw0"
      },
      "source": [
        "Многослойный перцептрон в студию:"
      ]
    },
    {
      "cell_type": "code",
      "execution_count": 61,
      "metadata": {
        "id": "Y6koUCXzuIw2"
      },
      "outputs": [],
      "source": [
        "model = tf.keras.Sequential([\n",
        "    tf.keras.layers.Dense(128, activation=tf.nn.relu, input_dim=8),\n",
        "    tf.keras.layers.Dense(10, activation=tf.nn.softmax)\n",
        "])\n",
        "\n",
        "model.compile(optimizer='adam',\n",
        "              loss='categorical_crossentropy',\n",
        "              metrics=['accuracy'])"
      ]
    },
    {
      "cell_type": "code",
      "execution_count": 62,
      "metadata": {
        "colab": {
          "base_uri": "https://localhost:8080/"
        },
        "id": "HHDhGiQpuIw2",
        "outputId": "5a99d4d1-c246-4339-f5eb-5763d6f13593"
      },
      "outputs": [
        {
          "output_type": "stream",
          "name": "stdout",
          "text": [
            "Epoch 1/20\n",
            "25/25 [==============================] - 1s 3ms/step - loss: 2.3234 - accuracy: 0.0800\n",
            "Epoch 2/20\n",
            "25/25 [==============================] - 0s 3ms/step - loss: 2.3026 - accuracy: 0.0975\n",
            "Epoch 3/20\n",
            "25/25 [==============================] - 0s 3ms/step - loss: 2.2934 - accuracy: 0.1175\n",
            "Epoch 4/20\n",
            "25/25 [==============================] - 0s 3ms/step - loss: 2.2859 - accuracy: 0.1238\n",
            "Epoch 5/20\n",
            "25/25 [==============================] - 0s 3ms/step - loss: 2.2779 - accuracy: 0.1450\n",
            "Epoch 6/20\n",
            "25/25 [==============================] - 0s 3ms/step - loss: 2.2711 - accuracy: 0.1612\n",
            "Epoch 7/20\n",
            "25/25 [==============================] - 0s 3ms/step - loss: 2.2663 - accuracy: 0.1675\n",
            "Epoch 8/20\n",
            "25/25 [==============================] - 0s 3ms/step - loss: 2.2600 - accuracy: 0.1800\n",
            "Epoch 9/20\n",
            "25/25 [==============================] - 0s 4ms/step - loss: 2.2550 - accuracy: 0.1787\n",
            "Epoch 10/20\n",
            "25/25 [==============================] - 0s 4ms/step - loss: 2.2504 - accuracy: 0.1813\n",
            "Epoch 11/20\n",
            "25/25 [==============================] - 0s 4ms/step - loss: 2.2452 - accuracy: 0.1925\n",
            "Epoch 12/20\n",
            "25/25 [==============================] - 0s 4ms/step - loss: 2.2407 - accuracy: 0.1863\n",
            "Epoch 13/20\n",
            "25/25 [==============================] - 0s 4ms/step - loss: 2.2365 - accuracy: 0.1838\n",
            "Epoch 14/20\n",
            "25/25 [==============================] - 0s 4ms/step - loss: 2.2339 - accuracy: 0.1975\n",
            "Epoch 15/20\n",
            "25/25 [==============================] - 0s 4ms/step - loss: 2.2277 - accuracy: 0.2000\n",
            "Epoch 16/20\n",
            "25/25 [==============================] - 0s 4ms/step - loss: 2.2244 - accuracy: 0.1900\n",
            "Epoch 17/20\n",
            "25/25 [==============================] - 0s 3ms/step - loss: 2.2193 - accuracy: 0.1900\n",
            "Epoch 18/20\n",
            "25/25 [==============================] - 0s 3ms/step - loss: 2.2167 - accuracy: 0.1925\n",
            "Epoch 19/20\n",
            "25/25 [==============================] - 0s 3ms/step - loss: 2.2118 - accuracy: 0.1975\n",
            "Epoch 20/20\n",
            "25/25 [==============================] - 0s 4ms/step - loss: 2.2079 - accuracy: 0.2013\n"
          ]
        },
        {
          "output_type": "execute_result",
          "data": {
            "text/plain": [
              "<keras.src.callbacks.History at 0x7d52180a28c0>"
            ]
          },
          "metadata": {},
          "execution_count": 62
        }
      ],
      "source": [
        "model.fit(X_train, np.eye(10)[y_train], epochs=10, batch_size=32)"
      ]
    },
    {
      "cell_type": "markdown",
      "source": [
        "Модель обучилась и готова вовсю предсказывать."
      ],
      "metadata": {
        "id": "3yK5Gz4su_st"
      }
    },
    {
      "cell_type": "code",
      "source": [
        "pred_prob = model.predict(X_test)\n",
        "y_pred = np.argmax(pred_prob, axis=1)\n",
        "y_pred_beer = le.inverse_transform(y_pred)\n",
        "\n",
        "print(\"Predicted classes:\", y_pred_beer)"
      ],
      "metadata": {
        "colab": {
          "base_uri": "https://localhost:8080/"
        },
        "id": "EnFWJftyzVsN",
        "outputId": "24933212-553f-4636-ce76-1a0ba0d6988e"
      },
      "execution_count": 68,
      "outputs": [
        {
          "output_type": "stream",
          "name": "stdout",
          "text": [
            "7/7 [==============================] - 0s 3ms/step\n",
            "Predicted classes: [0 8 0 0 8 0 4 1 8 8 4 8 6 8 8 1 0 4 4 6 6 6 0 4 6 4 0 6 8 4 1 7 0 8 8 8 6\n",
            " 3 8 1 8 9 0 4 1 8 1 6 0 6 4 1 8 6 8 0 8 9 1 9 1 8 8 5 8 9 0 8 4 9 8 0 1 6\n",
            " 0 4 0 4 6 6 4 4 5 0 6 8 8 9 0 4 8 8 2 8 9 4 4 8 9 8 1 4 1 4 6 8 4 4 9 6 9\n",
            " 2 0 8 4 0 9 8 8 0 0 8 8 1 8 8 8 8 1 1 4 1 0 5 9 1 4 8 1 4 1 3 9 4 8 9 0 0\n",
            " 8 9 8 0 0 6 9 0 2 4 5 4 1 6 0 4 4 6 6 8 9 8 8 8 0 6 4 2 0 9 0 8 4 8 8 6 6\n",
            " 0 8 2 9 4 8 0 6 9 8 4 1 0 7 8]\n"
          ]
        }
      ]
    },
    {
      "cell_type": "code",
      "source": [
        "loss, accuracy = model.evaluate(X_test, np.eye(10)[y_test])\n",
        "\n",
        "print(\"Test accuracy:\", accuracy)"
      ],
      "metadata": {
        "colab": {
          "base_uri": "https://localhost:8080/"
        },
        "id": "pYCjjvR7vvlX",
        "outputId": "ec283909-917f-4a06-d0a4-9691e1100592"
      },
      "execution_count": 69,
      "outputs": [
        {
          "output_type": "stream",
          "name": "stdout",
          "text": [
            "7/7 [==============================] - 0s 3ms/step - loss: 2.3339 - accuracy: 0.1000\n",
            "Test accuracy: 0.10000000149011612\n"
          ]
        }
      ]
    },
    {
      "cell_type": "markdown",
      "source": [
        "Чуда, как и ожидалось, не произошло( Но зато мы увидели как мог бы работать многослойный перцептрон в качестве простой рекомендательной системы."
      ],
      "metadata": {
        "id": "0coJKOyEyp-h"
      }
    }
  ],
  "metadata": {
    "kernelspec": {
      "display_name": "Python 3",
      "name": "python3"
    },
    "language_info": {
      "codemirror_mode": {
        "name": "ipython",
        "version": 3
      },
      "file_extension": ".py",
      "mimetype": "text/x-python",
      "name": "python",
      "nbconvert_exporter": "python",
      "pygments_lexer": "ipython3",
      "version": "3.11.4"
    },
    "orig_nbformat": 4,
    "colab": {
      "provenance": [],
      "gpuType": "T4",
      "include_colab_link": true
    },
    "accelerator": "GPU"
  },
  "nbformat": 4,
  "nbformat_minor": 0
}